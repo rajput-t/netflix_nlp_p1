{
  "nbformat": 4,
  "nbformat_minor": 0,
  "metadata": {
    "colab": {
      "provenance": [],
      "mount_file_id": "1TXaqDGzNKPaezpNinXj6wGKVh31dSlOP",
      "authorship_tag": "ABX9TyOuvcxwbVKojaGEHs6IBIE/",
      "include_colab_link": true
    },
    "kernelspec": {
      "name": "python3",
      "display_name": "Python 3"
    },
    "language_info": {
      "name": "python"
    }
  },
  "cells": [
    {
      "cell_type": "markdown",
      "metadata": {
        "id": "view-in-github",
        "colab_type": "text"
      },
      "source": [
        "<a href=\"https://colab.research.google.com/github/tvr430/Netflix/blob/main/Netflix.ipynb\" target=\"_parent\"><img src=\"https://colab.research.google.com/assets/colab-badge.svg\" alt=\"Open In Colab\"/></a>"
      ]
    },
    {
      "cell_type": "code",
      "execution_count": 1,
      "metadata": {
        "id": "W58aC1n3NgBV"
      },
      "outputs": [],
      "source": [
        "import pandas as pd\n",
        "import numpy as np\n",
        "import seaborn as sns\n",
        "import plotly.express as px\n",
        "import matplotlib.pyplot as plt\n",
        "%matplotlib inline"
      ]
    },
    {
      "cell_type": "code",
      "source": [
        "df=pd.read_csv('/content/drive/MyDrive/Datasets/netflix-rotten-tomatoes-metacritic-imdb.csv')\n",
        "df.drop(['Image', 'Poster', 'TMDb Trailer','Trailer Site','Netflix Link', 'IMDb Link'],axis=1,inplace=True)\n",
        "df.info()"
      ],
      "metadata": {
        "id": "VHs4sbdSNnUv",
        "colab": {
          "base_uri": "https://localhost:8080/"
        },
        "outputId": "c0d8ebd1-cc8d-48d5-b76f-dcfc9d81d88b"
      },
      "execution_count": 2,
      "outputs": [
        {
          "output_type": "stream",
          "name": "stdout",
          "text": [
            "<class 'pandas.core.frame.DataFrame'>\n",
            "RangeIndex: 15480 entries, 0 to 15479\n",
            "Data columns (total 23 columns):\n",
            " #   Column                 Non-Null Count  Dtype  \n",
            "---  ------                 --------------  -----  \n",
            " 0   Title                  15480 non-null  object \n",
            " 1   Genre                  13770 non-null  object \n",
            " 2   Tags                   15413 non-null  object \n",
            " 3   Languages              13545 non-null  object \n",
            " 4   Series or Movie        15480 non-null  object \n",
            " 5   Hidden Gem Score       13379 non-null  float64\n",
            " 6   Country Availability   15461 non-null  object \n",
            " 7   Runtime                15479 non-null  object \n",
            " 8   Director               10772 non-null  object \n",
            " 9   Writer                 11150 non-null  object \n",
            " 10  Actors                 13555 non-null  object \n",
            " 11  View Rating            8456 non-null   object \n",
            " 12  IMDb Score             13381 non-null  float64\n",
            " 13  Rotten Tomatoes Score  6382 non-null   float64\n",
            " 14  Metacritic Score       4336 non-null   float64\n",
            " 15  Awards Received        6075 non-null   float64\n",
            " 16  Awards Nominated For   7661 non-null   float64\n",
            " 17  Boxoffice              4007 non-null   object \n",
            " 18  Release Date           13373 non-null  object \n",
            " 19  Netflix Release Date   15480 non-null  object \n",
            " 20  Production House       5149 non-null   object \n",
            " 21  Summary                15471 non-null  object \n",
            " 22  IMDb Votes             13379 non-null  float64\n",
            "dtypes: float64(7), object(16)\n",
            "memory usage: 2.7+ MB\n"
          ]
        }
      ]
    },
    {
      "cell_type": "code",
      "source": [
        "df['Boxoffice']=df['Boxoffice'].replace('[$,]','',regex = True).astype(float)\n",
        "df['Boxoffice']"
      ],
      "metadata": {
        "colab": {
          "base_uri": "https://localhost:8080/"
        },
        "id": "oyy_93BCOQD0",
        "outputId": "1478e515-2491-41ed-f524-2265c1e200a0"
      },
      "execution_count": 3,
      "outputs": [
        {
          "output_type": "execute_result",
          "data": {
            "text/plain": [
              "0        2122065.0\n",
              "1          70632.0\n",
              "2          16263.0\n",
              "3              NaN\n",
              "4              NaN\n",
              "           ...    \n",
              "15475          NaN\n",
              "15476          NaN\n",
              "15477          NaN\n",
              "15478          NaN\n",
              "15479          NaN\n",
              "Name: Boxoffice, Length: 15480, dtype: float64"
            ]
          },
          "metadata": {},
          "execution_count": 3
        }
      ]
    },
    {
      "cell_type": "code",
      "source": [
        "score=[col for col in df if 'Score' in col]\n",
        "score.extend(['Title','Boxoffice'])\n",
        "df_score=df[score]\n",
        "df_score=df_score.dropna(subset=['Boxoffice'])\n",
        "df_score.sort_values(['Boxoffice'],ascending=False)"
      ],
      "metadata": {
        "id": "VxPNDvhewVvh",
        "colab": {
          "base_uri": "https://localhost:8080/",
          "height": 424
        },
        "outputId": "a3e18574-8da8-4fb7-9d81-dc6cb7c9d89b"
      },
      "execution_count": 4,
      "outputs": [
        {
          "output_type": "execute_result",
          "data": {
            "text/plain": [
              "       Hidden Gem Score  IMDb Score  Rotten Tomatoes Score  Metacritic Score  \\\n",
              "13703               4.0         7.8                   89.0              75.0   \n",
              "10593               3.3         7.0                   70.0              59.0   \n",
              "14202               4.0         8.0                   91.0              69.0   \n",
              "14478               4.5         9.0                   94.0              84.0   \n",
              "1591                2.8         6.5                   52.0              51.0   \n",
              "...                 ...         ...                    ...               ...   \n",
              "5363                4.5         7.8                   93.0              97.0   \n",
              "3445                5.6         7.5                   89.0              78.0   \n",
              "7012                2.0         5.8                   22.0               NaN   \n",
              "5862                6.3         3.6                    NaN               NaN   \n",
              "14013               4.1         4.5                    NaN              52.0   \n",
              "\n",
              "                              Title    Boxoffice  \n",
              "13703                       Titanic  659363944.0  \n",
              "10593                Jurassic World  652385625.0  \n",
              "14202             Avengers Assemble  623357910.0  \n",
              "14478               The Dark Knight  534858444.0  \n",
              "1591   Im Thinking of Ending Things  474544677.0  \n",
              "...                             ...          ...  \n",
              "5363                  Jules and Jim        509.0  \n",
              "3445                  The Soft Skin        509.0  \n",
              "7012                           2:22        422.0  \n",
              "5862                         Realms        147.0  \n",
              "14013                    Storage 24         72.0  \n",
              "\n",
              "[4007 rows x 6 columns]"
            ],
            "text/html": [
              "\n",
              "  <div id=\"df-b99b3744-195b-4893-8307-9a5aa22c7135\">\n",
              "    <div class=\"colab-df-container\">\n",
              "      <div>\n",
              "<style scoped>\n",
              "    .dataframe tbody tr th:only-of-type {\n",
              "        vertical-align: middle;\n",
              "    }\n",
              "\n",
              "    .dataframe tbody tr th {\n",
              "        vertical-align: top;\n",
              "    }\n",
              "\n",
              "    .dataframe thead th {\n",
              "        text-align: right;\n",
              "    }\n",
              "</style>\n",
              "<table border=\"1\" class=\"dataframe\">\n",
              "  <thead>\n",
              "    <tr style=\"text-align: right;\">\n",
              "      <th></th>\n",
              "      <th>Hidden Gem Score</th>\n",
              "      <th>IMDb Score</th>\n",
              "      <th>Rotten Tomatoes Score</th>\n",
              "      <th>Metacritic Score</th>\n",
              "      <th>Title</th>\n",
              "      <th>Boxoffice</th>\n",
              "    </tr>\n",
              "  </thead>\n",
              "  <tbody>\n",
              "    <tr>\n",
              "      <th>13703</th>\n",
              "      <td>4.0</td>\n",
              "      <td>7.8</td>\n",
              "      <td>89.0</td>\n",
              "      <td>75.0</td>\n",
              "      <td>Titanic</td>\n",
              "      <td>659363944.0</td>\n",
              "    </tr>\n",
              "    <tr>\n",
              "      <th>10593</th>\n",
              "      <td>3.3</td>\n",
              "      <td>7.0</td>\n",
              "      <td>70.0</td>\n",
              "      <td>59.0</td>\n",
              "      <td>Jurassic World</td>\n",
              "      <td>652385625.0</td>\n",
              "    </tr>\n",
              "    <tr>\n",
              "      <th>14202</th>\n",
              "      <td>4.0</td>\n",
              "      <td>8.0</td>\n",
              "      <td>91.0</td>\n",
              "      <td>69.0</td>\n",
              "      <td>Avengers Assemble</td>\n",
              "      <td>623357910.0</td>\n",
              "    </tr>\n",
              "    <tr>\n",
              "      <th>14478</th>\n",
              "      <td>4.5</td>\n",
              "      <td>9.0</td>\n",
              "      <td>94.0</td>\n",
              "      <td>84.0</td>\n",
              "      <td>The Dark Knight</td>\n",
              "      <td>534858444.0</td>\n",
              "    </tr>\n",
              "    <tr>\n",
              "      <th>1591</th>\n",
              "      <td>2.8</td>\n",
              "      <td>6.5</td>\n",
              "      <td>52.0</td>\n",
              "      <td>51.0</td>\n",
              "      <td>Im Thinking of Ending Things</td>\n",
              "      <td>474544677.0</td>\n",
              "    </tr>\n",
              "    <tr>\n",
              "      <th>...</th>\n",
              "      <td>...</td>\n",
              "      <td>...</td>\n",
              "      <td>...</td>\n",
              "      <td>...</td>\n",
              "      <td>...</td>\n",
              "      <td>...</td>\n",
              "    </tr>\n",
              "    <tr>\n",
              "      <th>5363</th>\n",
              "      <td>4.5</td>\n",
              "      <td>7.8</td>\n",
              "      <td>93.0</td>\n",
              "      <td>97.0</td>\n",
              "      <td>Jules and Jim</td>\n",
              "      <td>509.0</td>\n",
              "    </tr>\n",
              "    <tr>\n",
              "      <th>3445</th>\n",
              "      <td>5.6</td>\n",
              "      <td>7.5</td>\n",
              "      <td>89.0</td>\n",
              "      <td>78.0</td>\n",
              "      <td>The Soft Skin</td>\n",
              "      <td>509.0</td>\n",
              "    </tr>\n",
              "    <tr>\n",
              "      <th>7012</th>\n",
              "      <td>2.0</td>\n",
              "      <td>5.8</td>\n",
              "      <td>22.0</td>\n",
              "      <td>NaN</td>\n",
              "      <td>2:22</td>\n",
              "      <td>422.0</td>\n",
              "    </tr>\n",
              "    <tr>\n",
              "      <th>5862</th>\n",
              "      <td>6.3</td>\n",
              "      <td>3.6</td>\n",
              "      <td>NaN</td>\n",
              "      <td>NaN</td>\n",
              "      <td>Realms</td>\n",
              "      <td>147.0</td>\n",
              "    </tr>\n",
              "    <tr>\n",
              "      <th>14013</th>\n",
              "      <td>4.1</td>\n",
              "      <td>4.5</td>\n",
              "      <td>NaN</td>\n",
              "      <td>52.0</td>\n",
              "      <td>Storage 24</td>\n",
              "      <td>72.0</td>\n",
              "    </tr>\n",
              "  </tbody>\n",
              "</table>\n",
              "<p>4007 rows × 6 columns</p>\n",
              "</div>\n",
              "      <button class=\"colab-df-convert\" onclick=\"convertToInteractive('df-b99b3744-195b-4893-8307-9a5aa22c7135')\"\n",
              "              title=\"Convert this dataframe to an interactive table.\"\n",
              "              style=\"display:none;\">\n",
              "        \n",
              "  <svg xmlns=\"http://www.w3.org/2000/svg\" height=\"24px\"viewBox=\"0 0 24 24\"\n",
              "       width=\"24px\">\n",
              "    <path d=\"M0 0h24v24H0V0z\" fill=\"none\"/>\n",
              "    <path d=\"M18.56 5.44l.94 2.06.94-2.06 2.06-.94-2.06-.94-.94-2.06-.94 2.06-2.06.94zm-11 1L8.5 8.5l.94-2.06 2.06-.94-2.06-.94L8.5 2.5l-.94 2.06-2.06.94zm10 10l.94 2.06.94-2.06 2.06-.94-2.06-.94-.94-2.06-.94 2.06-2.06.94z\"/><path d=\"M17.41 7.96l-1.37-1.37c-.4-.4-.92-.59-1.43-.59-.52 0-1.04.2-1.43.59L10.3 9.45l-7.72 7.72c-.78.78-.78 2.05 0 2.83L4 21.41c.39.39.9.59 1.41.59.51 0 1.02-.2 1.41-.59l7.78-7.78 2.81-2.81c.8-.78.8-2.07 0-2.86zM5.41 20L4 18.59l7.72-7.72 1.47 1.35L5.41 20z\"/>\n",
              "  </svg>\n",
              "      </button>\n",
              "      \n",
              "  <style>\n",
              "    .colab-df-container {\n",
              "      display:flex;\n",
              "      flex-wrap:wrap;\n",
              "      gap: 12px;\n",
              "    }\n",
              "\n",
              "    .colab-df-convert {\n",
              "      background-color: #E8F0FE;\n",
              "      border: none;\n",
              "      border-radius: 50%;\n",
              "      cursor: pointer;\n",
              "      display: none;\n",
              "      fill: #1967D2;\n",
              "      height: 32px;\n",
              "      padding: 0 0 0 0;\n",
              "      width: 32px;\n",
              "    }\n",
              "\n",
              "    .colab-df-convert:hover {\n",
              "      background-color: #E2EBFA;\n",
              "      box-shadow: 0px 1px 2px rgba(60, 64, 67, 0.3), 0px 1px 3px 1px rgba(60, 64, 67, 0.15);\n",
              "      fill: #174EA6;\n",
              "    }\n",
              "\n",
              "    [theme=dark] .colab-df-convert {\n",
              "      background-color: #3B4455;\n",
              "      fill: #D2E3FC;\n",
              "    }\n",
              "\n",
              "    [theme=dark] .colab-df-convert:hover {\n",
              "      background-color: #434B5C;\n",
              "      box-shadow: 0px 1px 3px 1px rgba(0, 0, 0, 0.15);\n",
              "      filter: drop-shadow(0px 1px 2px rgba(0, 0, 0, 0.3));\n",
              "      fill: #FFFFFF;\n",
              "    }\n",
              "  </style>\n",
              "\n",
              "      <script>\n",
              "        const buttonEl =\n",
              "          document.querySelector('#df-b99b3744-195b-4893-8307-9a5aa22c7135 button.colab-df-convert');\n",
              "        buttonEl.style.display =\n",
              "          google.colab.kernel.accessAllowed ? 'block' : 'none';\n",
              "\n",
              "        async function convertToInteractive(key) {\n",
              "          const element = document.querySelector('#df-b99b3744-195b-4893-8307-9a5aa22c7135');\n",
              "          const dataTable =\n",
              "            await google.colab.kernel.invokeFunction('convertToInteractive',\n",
              "                                                     [key], {});\n",
              "          if (!dataTable) return;\n",
              "\n",
              "          const docLinkHtml = 'Like what you see? Visit the ' +\n",
              "            '<a target=\"_blank\" href=https://colab.research.google.com/notebooks/data_table.ipynb>data table notebook</a>'\n",
              "            + ' to learn more about interactive tables.';\n",
              "          element.innerHTML = '';\n",
              "          dataTable['output_type'] = 'display_data';\n",
              "          await google.colab.output.renderOutput(dataTable, element);\n",
              "          const docLink = document.createElement('div');\n",
              "          docLink.innerHTML = docLinkHtml;\n",
              "          element.appendChild(docLink);\n",
              "        }\n",
              "      </script>\n",
              "    </div>\n",
              "  </div>\n",
              "  "
            ]
          },
          "metadata": {},
          "execution_count": 4
        }
      ]
    },
    {
      "cell_type": "code",
      "source": [
        "df_score.info()"
      ],
      "metadata": {
        "id": "4c91xZ_hwVsx",
        "colab": {
          "base_uri": "https://localhost:8080/"
        },
        "outputId": "070dea5b-6927-42d2-d9ba-c19b4f1abecd"
      },
      "execution_count": 5,
      "outputs": [
        {
          "output_type": "stream",
          "name": "stdout",
          "text": [
            "<class 'pandas.core.frame.DataFrame'>\n",
            "Int64Index: 4007 entries, 0 to 15465\n",
            "Data columns (total 6 columns):\n",
            " #   Column                 Non-Null Count  Dtype  \n",
            "---  ------                 --------------  -----  \n",
            " 0   Hidden Gem Score       4007 non-null   float64\n",
            " 1   IMDb Score             4007 non-null   float64\n",
            " 2   Rotten Tomatoes Score  3728 non-null   float64\n",
            " 3   Metacritic Score       3525 non-null   float64\n",
            " 4   Title                  4007 non-null   object \n",
            " 5   Boxoffice              4007 non-null   float64\n",
            "dtypes: float64(5), object(1)\n",
            "memory usage: 219.1+ KB\n"
          ]
        }
      ]
    },
    {
      "cell_type": "code",
      "source": [
        "dfm=df[df['Series or Movie']=='Movie'].reset_index(drop=True)\n",
        "dfs=df[df['Series or Movie']=='Series'].reset_index(drop=True)"
      ],
      "metadata": {
        "id": "4CVKCulnwVpR"
      },
      "execution_count": 6,
      "outputs": []
    },
    {
      "cell_type": "code",
      "source": [
        "sns.countplot(dfm['Runtime'])"
      ],
      "metadata": {
        "id": "jsPWA6bEwVkx",
        "colab": {
          "base_uri": "https://localhost:8080/",
          "height": 351
        },
        "outputId": "819dfea3-210c-4ba1-f6d9-4aef285d1be0"
      },
      "execution_count": 7,
      "outputs": [
        {
          "output_type": "stream",
          "name": "stderr",
          "text": [
            "/usr/local/lib/python3.7/dist-packages/seaborn/_decorators.py:43: FutureWarning: Pass the following variable as a keyword arg: x. From version 0.12, the only valid positional argument will be `data`, and passing other arguments without an explicit keyword will result in an error or misinterpretation.\n",
            "  FutureWarning\n"
          ]
        },
        {
          "output_type": "execute_result",
          "data": {
            "text/plain": [
              "<matplotlib.axes._subplots.AxesSubplot at 0x7fb34ce07e10>"
            ]
          },
          "metadata": {},
          "execution_count": 7
        },
        {
          "output_type": "display_data",
          "data": {
            "text/plain": [
              "<Figure size 432x288 with 1 Axes>"
            ],
            "image/png": "[encoded data removed]"
          },
          "metadata": {
            "needs_background": "light"
          }
        }
      ]
    },
    {
      "cell_type": "code",
      "source": [
        "def cc(col,a=10):\n",
        "#     this function takes a column as input and outputs a bargraph that gives the count of top 10 occurances\n",
        "    col=col.dropna()\n",
        "    l=[]\n",
        "    for i in col:\n",
        "        if type(i)==str:\n",
        "            l.extend(i.replace(' ','').split(','))\n",
        "    d={}\n",
        "    for i in l:\n",
        "        if i in d:\n",
        "            d[i]+=1\n",
        "        else:\n",
        "            d[i]=1\n",
        "    df=pd.DataFrame(d.values(),index=d.keys())\n",
        "    df=df.sort_values(0, ascending=False)\n",
        "    x=sns.barplot(x=df.index[0:a],y=df[0][0:a])\n",
        "    return x"
      ],
      "metadata": {
        "id": "qub0aslgwVgB"
      },
      "execution_count": 8,
      "outputs": []
    },
    {
      "cell_type": "code",
      "source": [
        "sns.set(rc={'figure.figsize':(18,5)})\n",
        "plt.subplot(1,2,1)\n",
        "cc(dfm.Genre)\n",
        "plt.subplot(1,2,2)\n",
        "cc(dfs.Genre)"
      ],
      "metadata": {
        "id": "mrWnd1DgwVZg",
        "colab": {
          "base_uri": "https://localhost:8080/",
          "height": 339
        },
        "outputId": "4c4566a6-ae1d-4842-fd4d-da7666099d94"
      },
      "execution_count": 9,
      "outputs": [
        {
          "output_type": "execute_result",
          "data": {
            "text/plain": [
              "<matplotlib.axes._subplots.AxesSubplot at 0x7fb34c629f50>"
            ]
          },
          "metadata": {},
          "execution_count": 9
        },
        {
          "output_type": "display_data",
          "data": {
            "text/plain": [
              "<Figure size 1296x360 with 2 Axes>"
            ],
            "image/png": "[encoded data removed]"
          },
          "metadata": {}
        }
      ]
    },
    {
      "cell_type": "code",
      "source": [
        "sns.set(rc={'figure.figsize':(30,8)})\n",
        "plt.subplot(1,2,1)\n",
        "cc(dfm['Country Availability'])\n",
        "plt.subplot(1,2,2)\n",
        "cc(dfs['Country Availability'])"
      ],
      "metadata": {
        "id": "kkAbaIgswVQr",
        "colab": {
          "base_uri": "https://localhost:8080/",
          "height": 414
        },
        "outputId": "7ac247eb-77c4-462a-dd53-c30bca6e5077"
      },
      "execution_count": 10,
      "outputs": [
        {
          "output_type": "execute_result",
          "data": {
            "text/plain": [
              "<matplotlib.axes._subplots.AxesSubplot at 0x7fb34bad9dd0>"
            ]
          },
          "metadata": {},
          "execution_count": 10
        },
        {
          "output_type": "display_data",
          "data": {
            "text/plain": [
              "<Figure size 2160x576 with 2 Axes>"
            ],
            "image/png": "[encoded data removed]"
          },
          "metadata": {}
        }
      ]
    },
    {
      "cell_type": "code",
      "source": [],
      "metadata": {
        "id": "3V9p6i8kwUpA"
      },
      "execution_count": 10,
      "outputs": []
    },
    {
      "cell_type": "code",
      "source": [
        "df.columns"
      ],
      "metadata": {
        "colab": {
          "base_uri": "https://localhost:8080/"
        },
        "id": "95pnUNj2ORyH",
        "outputId": "0241305e-93ce-4b7d-dd66-eba60424d615"
      },
      "execution_count": 11,
      "outputs": [
        {
          "output_type": "execute_result",
          "data": {
            "text/plain": [
              "Index(['Title', 'Genre', 'Tags', 'Languages', 'Series or Movie',\n",
              "       'Hidden Gem Score', 'Country Availability', 'Runtime', 'Director',\n",
              "       'Writer', 'Actors', 'View Rating', 'IMDb Score',\n",
              "       'Rotten Tomatoes Score', 'Metacritic Score', 'Awards Received',\n",
              "       'Awards Nominated For', 'Boxoffice', 'Release Date',\n",
              "       'Netflix Release Date', 'Production House', 'Summary', 'IMDb Votes'],\n",
              "      dtype='object')"
            ]
          },
          "metadata": {},
          "execution_count": 11
        }
      ]
    },
    {
      "cell_type": "markdown",
      "source": [],
      "metadata": {
        "id": "9qXimp2-OpAo"
      }
    }
  ]
}